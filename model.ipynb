{
  "nbformat": 4,
  "nbformat_minor": 0,
  "metadata": {
    "colab": {
      "name": "nastya.ipynb",
      "provenance": [],
      "collapsed_sections": [],
      "mount_file_id": "1gS2BYdIjo-laA5dRbv7Mv4-y1jBgrUzT",
      "authorship_tag": "ABX9TyOBTpcgH4lkdMbN/QoA9YRS"
    },
    "kernelspec": {
      "name": "python3",
      "display_name": "Python 3"
    },
    "language_info": {
      "name": "python"
    },
    "accelerator": "GPU"
  },
  "cells": [
    {
      "cell_type": "markdown",
      "source": [
        "# Imports"
      ],
      "metadata": {
        "id": "VZ8M9uTHITrb"
      }
    },
    {
      "cell_type": "code",
      "execution_count": null,
      "metadata": {
        "id": "kZPv5mSBZjPD"
      },
      "outputs": [],
      "source": [
        "from tensorflow.keras.models import Model\n",
        "from tensorflow.keras.layers import Dense, Input\n",
        "from tensorflow.keras.activations import relu\n",
        "\n",
        "from sklearn.model_selection import train_test_split\n",
        "\n",
        "import pandas as pd\n",
        "import numpy as np\n",
        "\n",
        "from requests import get"
      ]
    },
    {
      "cell_type": "markdown",
      "source": [
        "# Preparing"
      ],
      "metadata": {
        "id": "qszc4hkLNJZP"
      }
    },
    {
      "cell_type": "code",
      "source": [
        "%pip install pickle5"
      ],
      "metadata": {
        "colab": {
          "base_uri": "https://localhost:8080/"
        },
        "id": "4mZfw1BESOKx",
        "outputId": "40f6f5ce-2872-4af9-f409-11adf7c3cc56"
      },
      "execution_count": null,
      "outputs": [
        {
          "output_type": "stream",
          "name": "stdout",
          "text": [
            "Collecting pickle5\n",
            "  Downloading pickle5-0.0.12-cp37-cp37m-manylinux_2_5_x86_64.manylinux1_x86_64.whl (256 kB)\n",
            "\u001b[?25l\r\u001b[K     |█▎                              | 10 kB 23.3 MB/s eta 0:00:01\r\u001b[K     |██▋                             | 20 kB 19.5 MB/s eta 0:00:01\r\u001b[K     |███▉                            | 30 kB 10.1 MB/s eta 0:00:01\r\u001b[K     |█████▏                          | 40 kB 8.3 MB/s eta 0:00:01\r\u001b[K     |██████▍                         | 51 kB 4.6 MB/s eta 0:00:01\r\u001b[K     |███████▊                        | 61 kB 5.3 MB/s eta 0:00:01\r\u001b[K     |█████████                       | 71 kB 5.4 MB/s eta 0:00:01\r\u001b[K     |██████████▎                     | 81 kB 5.5 MB/s eta 0:00:01\r\u001b[K     |███████████▌                    | 92 kB 5.9 MB/s eta 0:00:01\r\u001b[K     |████████████▉                   | 102 kB 5.3 MB/s eta 0:00:01\r\u001b[K     |██████████████                  | 112 kB 5.3 MB/s eta 0:00:01\r\u001b[K     |███████████████▍                | 122 kB 5.3 MB/s eta 0:00:01\r\u001b[K     |████████████████▋               | 133 kB 5.3 MB/s eta 0:00:01\r\u001b[K     |██████████████████              | 143 kB 5.3 MB/s eta 0:00:01\r\u001b[K     |███████████████████▏            | 153 kB 5.3 MB/s eta 0:00:01\r\u001b[K     |████████████████████▌           | 163 kB 5.3 MB/s eta 0:00:01\r\u001b[K     |█████████████████████▊          | 174 kB 5.3 MB/s eta 0:00:01\r\u001b[K     |███████████████████████         | 184 kB 5.3 MB/s eta 0:00:01\r\u001b[K     |████████████████████████▎       | 194 kB 5.3 MB/s eta 0:00:01\r\u001b[K     |█████████████████████████▋      | 204 kB 5.3 MB/s eta 0:00:01\r\u001b[K     |██████████████████████████▉     | 215 kB 5.3 MB/s eta 0:00:01\r\u001b[K     |████████████████████████████▏   | 225 kB 5.3 MB/s eta 0:00:01\r\u001b[K     |█████████████████████████████▍  | 235 kB 5.3 MB/s eta 0:00:01\r\u001b[K     |██████████████████████████████▊ | 245 kB 5.3 MB/s eta 0:00:01\r\u001b[K     |████████████████████████████████| 256 kB 5.3 MB/s eta 0:00:01\r\u001b[K     |████████████████████████████████| 256 kB 5.3 MB/s \n",
            "\u001b[?25hInstalling collected packages: pickle5\n",
            "Successfully installed pickle5-0.0.12\n"
          ]
        }
      ]
    },
    {
      "cell_type": "code",
      "source": [
        "tokenizer_py = get('https://github.com/tikovka72/' +\n",
        "                   'movies-recommendations/raw/main/tokenizer.py')\n",
        "tokenizer_pickle = get('https://github.com/tikovka72/' + \n",
        "                       'movies-recommendations/raw/main/tokenizer.pickle')\n",
        "\n",
        "with open('tokenizer.py', 'wb') as f: \n",
        "    f.write(tokenizer_py.content.replace(b' pickle', b' pickle5'))\n",
        "    print('tokenizer.py downloaded')\n",
        "\n",
        "with open('tokenizer.pickle', 'wb') as f: \n",
        "    f.write(tokenizer_pickle.content)\n",
        "    print('tokenizer.pickle downloaded')"
      ],
      "metadata": {
        "colab": {
          "base_uri": "https://localhost:8080/"
        },
        "id": "-AlX7qGONNZr",
        "outputId": "18424ff8-be63-43ad-a59d-fbeef818631d"
      },
      "execution_count": null,
      "outputs": [
        {
          "output_type": "stream",
          "name": "stdout",
          "text": [
            "tokenizer.py downloaded\n",
            "tokenizer.pickle downloaded\n"
          ]
        }
      ]
    },
    {
      "cell_type": "markdown",
      "source": [
        "# Constants"
      ],
      "metadata": {
        "id": "oR5PEiLwIN_F"
      }
    },
    {
      "cell_type": "code",
      "source": [
        "INPUT_SHAPE = 8000\n",
        "HIDDEN_LAYER_SHAPE = 256"
      ],
      "metadata": {
        "id": "obmLPQBNEFMU"
      },
      "execution_count": null,
      "outputs": []
    },
    {
      "cell_type": "markdown",
      "source": [
        "# Generator"
      ],
      "metadata": {
        "id": "jS18m1YkIYKQ"
      }
    },
    {
      "cell_type": "code",
      "source": [
        "def create_generator(): \n",
        "    input_layer = Input(INPUT_SHAPE)\n",
        "    layer = Dense(4096, activation=relu)(input_layer)\n",
        "    for units_count in [2048, 2048, 1024, 512, 512, HIDDEN_LAYER_SHAPE]: \n",
        "        layer = Dense(units_count, activation=relu)(layer)\n",
        "    return Model(input_layer, layer)"
      ],
      "metadata": {
        "id": "T9sk-DJL8may"
      },
      "execution_count": null,
      "outputs": []
    },
    {
      "cell_type": "markdown",
      "source": [
        "# Decoder"
      ],
      "metadata": {
        "id": "mUdSpOBwIZ8l"
      }
    },
    {
      "cell_type": "code",
      "source": [
        "def create_decoder(): \n",
        "    input_layer = Input(HIDDEN_LAYER_SHAPE)\n",
        "    layer = Dense(512, activation=relu)(input_layer)\n",
        "    for units_count in [512, 512, 1024, 2048, 2048, 4096, INPUT_SHAPE]:\n",
        "        layer = Dense(units_count, activation=relu)(layer)\n",
        "    return Model(input_layer, layer)"
      ],
      "metadata": {
        "id": "ZUh-6hsTC0mV"
      },
      "execution_count": null,
      "outputs": []
    },
    {
      "cell_type": "markdown",
      "source": [
        "# Whole model"
      ],
      "metadata": {
        "id": "dWfE0fEhIccg"
      }
    },
    {
      "cell_type": "code",
      "source": [
        "main_input = Input(INPUT_SHAPE)\n",
        "generator, decoder = create_generator(), create_decoder()\n",
        "model = Model(main_input, decoder(generator(main_input)))"
      ],
      "metadata": {
        "id": "Shn-5nJSDTB6"
      },
      "execution_count": null,
      "outputs": []
    },
    {
      "cell_type": "markdown",
      "source": [
        "# Data formatting"
      ],
      "metadata": {
        "id": "rNyvKB7dIk1r"
      }
    },
    {
      "cell_type": "code",
      "source": [
        "df = pd.read_csv('https://raw.githubusercontent.com' + \n",
        "                 '/tikovka72/movies-recommendations/main/csv/movies.csv')"
      ],
      "metadata": {
        "id": "KRe821lJItfL"
      },
      "execution_count": null,
      "outputs": []
    },
    {
      "cell_type": "code",
      "source": [
        "keywords = df['keywords'].dropna()"
      ],
      "metadata": {
        "id": "ogbKb_tzKoZm"
      },
      "execution_count": null,
      "outputs": []
    },
    {
      "cell_type": "code",
      "source": [
        "from tokenizer import CustomTokenizer\n",
        "\n",
        "t = CustomTokenizer()"
      ],
      "metadata": {
        "id": "8RwohmOnKyUP"
      },
      "execution_count": null,
      "outputs": []
    },
    {
      "cell_type": "code",
      "source": [
        "np.save('/content/drive/MyDrive/movies-recommendations/vecotors_decoded.npy', all_x)"
      ],
      "metadata": {
        "id": "XmjkS0JiUjul"
      },
      "execution_count": null,
      "outputs": []
    },
    {
      "cell_type": "code",
      "source": [
        "all_x = np.array([t.get_binary_indexes(t.cut_words(keyword)) for keyword in keywords])"
      ],
      "metadata": {
        "id": "esI8MyFDNAa_"
      },
      "execution_count": null,
      "outputs": []
    },
    {
      "cell_type": "markdown",
      "source": [
        "# Data getting"
      ],
      "metadata": {
        "id": "sWOJ0ng7iYeA"
      }
    },
    {
      "cell_type": "code",
      "source": [
        "all_x = np.load('/content/drive/MyDrive/movies-recommendations/vecotors_decoded.npy')"
      ],
      "metadata": {
        "id": "eXWtwP3XgFDs"
      },
      "execution_count": null,
      "outputs": []
    },
    {
      "cell_type": "code",
      "source": [
        "all_x = all_x / all_x.max()"
      ],
      "metadata": {
        "id": "cdHy3mPalHa8"
      },
      "execution_count": null,
      "outputs": []
    },
    {
      "cell_type": "code",
      "source": [
        ""
      ],
      "metadata": {
        "id": "xKubm8xNIDdY"
      },
      "execution_count": null,
      "outputs": []
    },
    {
      "cell_type": "code",
      "source": [
        "x_train, x_test = train_test_split(all_x, train_size=.85, random_state=123)"
      ],
      "metadata": {
        "id": "zTsb2OkEYijq"
      },
      "execution_count": null,
      "outputs": []
    },
    {
      "cell_type": "code",
      "source": [
        "x_train.shape"
      ],
      "metadata": {
        "colab": {
          "base_uri": "https://localhost:8080/"
        },
        "id": "3-kPfIIOfXXk",
        "outputId": "e406c994-7d8b-4c1a-8018-bdf36ff46e9a"
      },
      "execution_count": null,
      "outputs": [
        {
          "output_type": "execute_result",
          "data": {
            "text/plain": [
              "(3728, 8000)"
            ]
          },
          "metadata": {},
          "execution_count": 9
        }
      ]
    },
    {
      "cell_type": "markdown",
      "source": [
        "# Fitting"
      ],
      "metadata": {
        "id": "eM_ek6exilSt"
      }
    },
    {
      "cell_type": "code",
      "source": [
        "model.compile(optimizer='adam', loss='mse', metrics='accuracy')"
      ],
      "metadata": {
        "id": "GD1ZwSFefbSL"
      },
      "execution_count": null,
      "outputs": []
    },
    {
      "cell_type": "code",
      "source": [
        "history = model.fit(x_train, x_train, epochs=100, batch_size=8, validation_split=0.1)"
      ],
      "metadata": {
        "colab": {
          "base_uri": "https://localhost:8080/"
        },
        "id": "is67tq7Bf1q3",
        "outputId": "a7b6e4ef-42ba-4e7e-9803-8558b0a016a4"
      },
      "execution_count": null,
      "outputs": [
        {
          "output_type": "stream",
          "name": "stdout",
          "text": [
            "Epoch 1/100\n",
            "420/420 [==============================] - 19s 43ms/step - loss: 9.7406e-04 - accuracy: 0.0602 - val_loss: 0.0010 - val_accuracy: 0.0724\n",
            "Epoch 2/100\n",
            "420/420 [==============================] - 18s 42ms/step - loss: 9.7331e-04 - accuracy: 0.0644 - val_loss: 0.0010 - val_accuracy: 0.0617\n",
            "Epoch 3/100\n",
            "420/420 [==============================] - 18s 42ms/step - loss: 9.7321e-04 - accuracy: 0.0626 - val_loss: 0.0010 - val_accuracy: 0.0670\n",
            "Epoch 4/100\n",
            "420/420 [==============================] - 18s 42ms/step - loss: 9.7322e-04 - accuracy: 0.0531 - val_loss: 0.0010 - val_accuracy: 0.0670\n",
            "Epoch 5/100\n",
            "420/420 [==============================] - 18s 43ms/step - loss: 9.7317e-04 - accuracy: 0.0626 - val_loss: 0.0010 - val_accuracy: 0.0724\n",
            "Epoch 6/100\n",
            "420/420 [==============================] - 18s 42ms/step - loss: 9.7322e-04 - accuracy: 0.0635 - val_loss: 0.0010 - val_accuracy: 0.0724\n",
            "Epoch 7/100\n",
            "420/420 [==============================] - 18s 43ms/step - loss: 9.7320e-04 - accuracy: 0.0653 - val_loss: 0.0010 - val_accuracy: 0.0670\n",
            "Epoch 8/100\n",
            "420/420 [==============================] - 18s 42ms/step - loss: 9.7322e-04 - accuracy: 0.0635 - val_loss: 0.0010 - val_accuracy: 0.0617\n",
            "Epoch 9/100\n",
            "420/420 [==============================] - 17s 42ms/step - loss: 9.7322e-04 - accuracy: 0.0620 - val_loss: 0.0010 - val_accuracy: 0.0670\n",
            "Epoch 10/100\n",
            "420/420 [==============================] - 18s 42ms/step - loss: 9.7321e-04 - accuracy: 0.0692 - val_loss: 0.0010 - val_accuracy: 0.0670\n",
            "Epoch 11/100\n",
            "420/420 [==============================] - 17s 42ms/step - loss: 9.7319e-04 - accuracy: 0.0656 - val_loss: 0.0010 - val_accuracy: 0.0617\n",
            "Epoch 12/100\n",
            "420/420 [==============================] - 17s 42ms/step - loss: 9.7322e-04 - accuracy: 0.0584 - val_loss: 0.0010 - val_accuracy: 0.0670\n",
            "Epoch 13/100\n",
            "420/420 [==============================] - 18s 42ms/step - loss: 9.7321e-04 - accuracy: 0.0635 - val_loss: 0.0010 - val_accuracy: 0.0617\n",
            "Epoch 14/100\n",
            "420/420 [==============================] - 18s 42ms/step - loss: 9.7319e-04 - accuracy: 0.0602 - val_loss: 0.0010 - val_accuracy: 0.0724\n",
            "Epoch 15/100\n",
            "420/420 [==============================] - 17s 42ms/step - loss: 9.7323e-04 - accuracy: 0.0611 - val_loss: 0.0010 - val_accuracy: 0.0670\n",
            "Epoch 16/100\n",
            "420/420 [==============================] - 17s 42ms/step - loss: 9.7320e-04 - accuracy: 0.0626 - val_loss: 0.0010 - val_accuracy: 0.0670\n",
            "Epoch 17/100\n",
            "420/420 [==============================] - 18s 42ms/step - loss: 9.7322e-04 - accuracy: 0.0617 - val_loss: 0.0010 - val_accuracy: 0.0724\n",
            "Epoch 18/100\n",
            "420/420 [==============================] - 17s 42ms/step - loss: 9.7323e-04 - accuracy: 0.0638 - val_loss: 0.0010 - val_accuracy: 0.0617\n",
            "Epoch 19/100\n",
            "420/420 [==============================] - 17s 42ms/step - loss: 9.7323e-04 - accuracy: 0.0653 - val_loss: 0.0010 - val_accuracy: 0.0617\n",
            "Epoch 20/100\n",
            "420/420 [==============================] - 17s 42ms/step - loss: 9.7323e-04 - accuracy: 0.0617 - val_loss: 0.0010 - val_accuracy: 0.0670\n",
            "Epoch 21/100\n",
            "420/420 [==============================] - 18s 42ms/step - loss: 9.7321e-04 - accuracy: 0.0578 - val_loss: 0.0010 - val_accuracy: 0.0670\n",
            "Epoch 22/100\n",
            "420/420 [==============================] - 17s 42ms/step - loss: 9.7322e-04 - accuracy: 0.0635 - val_loss: 0.0010 - val_accuracy: 0.0724\n",
            "Epoch 23/100\n",
            "420/420 [==============================] - 17s 42ms/step - loss: 9.7322e-04 - accuracy: 0.0653 - val_loss: 0.0010 - val_accuracy: 0.0617\n",
            "Epoch 24/100\n",
            "420/420 [==============================] - 17s 42ms/step - loss: 9.7321e-04 - accuracy: 0.0665 - val_loss: 0.0010 - val_accuracy: 0.0670\n",
            "Epoch 25/100\n",
            "420/420 [==============================] - 17s 42ms/step - loss: 9.7323e-04 - accuracy: 0.0641 - val_loss: 0.0010 - val_accuracy: 0.0617\n",
            "Epoch 26/100\n",
            "420/420 [==============================] - 18s 42ms/step - loss: 9.7320e-04 - accuracy: 0.0647 - val_loss: 0.0010 - val_accuracy: 0.0724\n",
            "Epoch 27/100\n",
            "420/420 [==============================] - 17s 42ms/step - loss: 9.7317e-04 - accuracy: 0.0638 - val_loss: 0.0010 - val_accuracy: 0.0670\n",
            "Epoch 28/100\n",
            "420/420 [==============================] - 17s 42ms/step - loss: 9.7325e-04 - accuracy: 0.0602 - val_loss: 0.0010 - val_accuracy: 0.0724\n",
            "Epoch 29/100\n",
            "420/420 [==============================] - 18s 42ms/step - loss: 9.7322e-04 - accuracy: 0.0593 - val_loss: 0.0010 - val_accuracy: 0.0724\n",
            "Epoch 30/100\n",
            "420/420 [==============================] - 17s 41ms/step - loss: 9.7321e-04 - accuracy: 0.0659 - val_loss: 0.0010 - val_accuracy: 0.0670\n",
            "Epoch 31/100\n",
            "420/420 [==============================] - 17s 42ms/step - loss: 9.7322e-04 - accuracy: 0.0638 - val_loss: 0.0010 - val_accuracy: 0.0724\n",
            "Epoch 32/100\n",
            "420/420 [==============================] - 17s 42ms/step - loss: 9.7323e-04 - accuracy: 0.0611 - val_loss: 0.0010 - val_accuracy: 0.0724\n",
            "Epoch 33/100\n",
            "420/420 [==============================] - 17s 42ms/step - loss: 9.7321e-04 - accuracy: 0.0650 - val_loss: 0.0010 - val_accuracy: 0.0724\n",
            "Epoch 34/100\n",
            "420/420 [==============================] - 18s 42ms/step - loss: 9.7322e-04 - accuracy: 0.0641 - val_loss: 0.0010 - val_accuracy: 0.0724\n",
            "Epoch 35/100\n",
            "420/420 [==============================] - 17s 42ms/step - loss: 9.7323e-04 - accuracy: 0.0635 - val_loss: 0.0010 - val_accuracy: 0.0670\n",
            "Epoch 36/100\n",
            "420/420 [==============================] - 18s 42ms/step - loss: 9.7322e-04 - accuracy: 0.0623 - val_loss: 0.0010 - val_accuracy: 0.0724\n",
            "Epoch 37/100\n",
            "420/420 [==============================] - 18s 42ms/step - loss: 9.7323e-04 - accuracy: 0.0638 - val_loss: 0.0010 - val_accuracy: 0.0724\n",
            "Epoch 38/100\n",
            "420/420 [==============================] - 18s 43ms/step - loss: 9.7323e-04 - accuracy: 0.0650 - val_loss: 0.0010 - val_accuracy: 0.0724\n",
            "Epoch 39/100\n",
            "420/420 [==============================] - 18s 42ms/step - loss: 9.7324e-04 - accuracy: 0.0602 - val_loss: 0.0010 - val_accuracy: 0.0724\n",
            "Epoch 40/100\n",
            "420/420 [==============================] - 18s 42ms/step - loss: 9.7324e-04 - accuracy: 0.0644 - val_loss: 0.0010 - val_accuracy: 0.0724\n",
            "Epoch 41/100\n",
            "420/420 [==============================] - 18s 42ms/step - loss: 9.7322e-04 - accuracy: 0.0617 - val_loss: 0.0010 - val_accuracy: 0.0724\n",
            "Epoch 42/100\n",
            "420/420 [==============================] - 18s 42ms/step - loss: 9.7322e-04 - accuracy: 0.0608 - val_loss: 0.0010 - val_accuracy: 0.0670\n",
            "Epoch 43/100\n",
            "420/420 [==============================] - 18s 42ms/step - loss: 9.7324e-04 - accuracy: 0.0623 - val_loss: 0.0010 - val_accuracy: 0.0617\n",
            "Epoch 44/100\n",
            "420/420 [==============================] - 18s 42ms/step - loss: 9.7324e-04 - accuracy: 0.0692 - val_loss: 0.0010 - val_accuracy: 0.0670\n",
            "Epoch 45/100\n",
            "420/420 [==============================] - 18s 42ms/step - loss: 9.7324e-04 - accuracy: 0.0596 - val_loss: 0.0010 - val_accuracy: 0.0617\n",
            "Epoch 46/100\n",
            "420/420 [==============================] - 18s 42ms/step - loss: 9.7323e-04 - accuracy: 0.0680 - val_loss: 0.0010 - val_accuracy: 0.0617\n",
            "Epoch 47/100\n",
            "420/420 [==============================] - 18s 43ms/step - loss: 9.7324e-04 - accuracy: 0.0611 - val_loss: 0.0010 - val_accuracy: 0.0617\n",
            "Epoch 48/100\n",
            "420/420 [==============================] - 18s 42ms/step - loss: 9.7325e-04 - accuracy: 0.0638 - val_loss: 0.0010 - val_accuracy: 0.0724\n",
            "Epoch 49/100\n",
            "420/420 [==============================] - 18s 42ms/step - loss: 9.7324e-04 - accuracy: 0.0629 - val_loss: 0.0010 - val_accuracy: 0.0724\n",
            "Epoch 50/100\n",
            "420/420 [==============================] - 18s 42ms/step - loss: 9.7324e-04 - accuracy: 0.0641 - val_loss: 0.0010 - val_accuracy: 0.0670\n",
            "Epoch 51/100\n",
            "420/420 [==============================] - 18s 43ms/step - loss: 9.7324e-04 - accuracy: 0.0641 - val_loss: 0.0010 - val_accuracy: 0.0724\n",
            "Epoch 52/100\n",
            "420/420 [==============================] - 18s 42ms/step - loss: 9.7320e-04 - accuracy: 0.0653 - val_loss: 0.0010 - val_accuracy: 0.0670\n",
            "Epoch 53/100\n",
            "420/420 [==============================] - 18s 42ms/step - loss: 9.7323e-04 - accuracy: 0.0626 - val_loss: 0.0010 - val_accuracy: 0.0617\n",
            "Epoch 54/100\n",
            "420/420 [==============================] - 18s 42ms/step - loss: 9.7322e-04 - accuracy: 0.0683 - val_loss: 0.0010 - val_accuracy: 0.0617\n",
            "Epoch 55/100\n",
            "420/420 [==============================] - 18s 43ms/step - loss: 9.7326e-04 - accuracy: 0.0590 - val_loss: 0.0010 - val_accuracy: 0.0724\n",
            "Epoch 56/100\n",
            "420/420 [==============================] - 18s 42ms/step - loss: 9.7322e-04 - accuracy: 0.0647 - val_loss: 0.0010 - val_accuracy: 0.0617\n",
            "Epoch 57/100\n",
            "420/420 [==============================] - 18s 43ms/step - loss: 9.7326e-04 - accuracy: 0.0596 - val_loss: 0.0010 - val_accuracy: 0.0617\n",
            "Epoch 58/100\n",
            "420/420 [==============================] - 18s 43ms/step - loss: 9.7324e-04 - accuracy: 0.0590 - val_loss: 0.0010 - val_accuracy: 0.0724\n",
            "Epoch 59/100\n",
            "420/420 [==============================] - 18s 42ms/step - loss: 9.7324e-04 - accuracy: 0.0632 - val_loss: 0.0010 - val_accuracy: 0.0617\n",
            "Epoch 60/100\n",
            "420/420 [==============================] - 18s 43ms/step - loss: 9.7324e-04 - accuracy: 0.0638 - val_loss: 0.0010 - val_accuracy: 0.0724\n",
            "Epoch 61/100\n",
            "420/420 [==============================] - 18s 42ms/step - loss: 9.7323e-04 - accuracy: 0.0650 - val_loss: 0.0010 - val_accuracy: 0.0724\n",
            "Epoch 62/100\n",
            "420/420 [==============================] - 18s 43ms/step - loss: 9.7324e-04 - accuracy: 0.0689 - val_loss: 0.0010 - val_accuracy: 0.0724\n",
            "Epoch 63/100\n",
            "420/420 [==============================] - 18s 42ms/step - loss: 9.7326e-04 - accuracy: 0.0614 - val_loss: 0.0010 - val_accuracy: 0.0617\n",
            "Epoch 64/100\n",
            "420/420 [==============================] - 18s 42ms/step - loss: 9.7325e-04 - accuracy: 0.0659 - val_loss: 0.0010 - val_accuracy: 0.0670\n",
            "Epoch 65/100\n",
            "420/420 [==============================] - 18s 43ms/step - loss: 9.7326e-04 - accuracy: 0.0644 - val_loss: 0.0010 - val_accuracy: 0.0670\n",
            "Epoch 66/100\n",
            "420/420 [==============================] - 18s 42ms/step - loss: 9.7324e-04 - accuracy: 0.0662 - val_loss: 0.0010 - val_accuracy: 0.0670\n",
            "Epoch 67/100\n",
            "420/420 [==============================] - 18s 43ms/step - loss: 9.7326e-04 - accuracy: 0.0686 - val_loss: 0.0010 - val_accuracy: 0.0670\n",
            "Epoch 68/100\n",
            "420/420 [==============================] - 18s 42ms/step - loss: 9.7325e-04 - accuracy: 0.0668 - val_loss: 0.0010 - val_accuracy: 0.0724\n",
            "Epoch 69/100\n",
            "420/420 [==============================] - 18s 42ms/step - loss: 9.7323e-04 - accuracy: 0.0703 - val_loss: 0.0010 - val_accuracy: 0.0724\n",
            "Epoch 70/100\n",
            "420/420 [==============================] - 18s 42ms/step - loss: 9.7324e-04 - accuracy: 0.0647 - val_loss: 0.0010 - val_accuracy: 0.0670\n",
            "Epoch 71/100\n",
            "420/420 [==============================] - 17s 41ms/step - loss: 9.7325e-04 - accuracy: 0.0620 - val_loss: 0.0010 - val_accuracy: 0.0724\n",
            "Epoch 72/100\n",
            "420/420 [==============================] - 18s 42ms/step - loss: 9.7324e-04 - accuracy: 0.0653 - val_loss: 0.0010 - val_accuracy: 0.0617\n",
            "Epoch 73/100\n",
            "420/420 [==============================] - 18s 42ms/step - loss: 9.7324e-04 - accuracy: 0.0632 - val_loss: 0.0010 - val_accuracy: 0.0724\n",
            "Epoch 74/100\n",
            "420/420 [==============================] - 18s 42ms/step - loss: 9.7325e-04 - accuracy: 0.0638 - val_loss: 0.0010 - val_accuracy: 0.0670\n",
            "Epoch 75/100\n",
            "420/420 [==============================] - 18s 42ms/step - loss: 9.7325e-04 - accuracy: 0.0593 - val_loss: 0.0010 - val_accuracy: 0.0617\n",
            "Epoch 76/100\n",
            "420/420 [==============================] - 17s 41ms/step - loss: 9.7323e-04 - accuracy: 0.0689 - val_loss: 0.0010 - val_accuracy: 0.0724\n",
            "Epoch 77/100\n",
            "420/420 [==============================] - 18s 42ms/step - loss: 9.7326e-04 - accuracy: 0.0644 - val_loss: 0.0010 - val_accuracy: 0.0670\n",
            "Epoch 78/100\n",
            "420/420 [==============================] - 17s 41ms/step - loss: 9.7323e-04 - accuracy: 0.0635 - val_loss: 0.0010 - val_accuracy: 0.0670\n",
            "Epoch 79/100\n",
            "420/420 [==============================] - 17s 41ms/step - loss: 9.7323e-04 - accuracy: 0.0638 - val_loss: 0.0010 - val_accuracy: 0.0724\n",
            "Epoch 80/100\n",
            "420/420 [==============================] - 18s 42ms/step - loss: 9.7324e-04 - accuracy: 0.0626 - val_loss: 0.0010 - val_accuracy: 0.0724\n",
            "Epoch 81/100\n",
            "420/420 [==============================] - 17s 41ms/step - loss: 9.7322e-04 - accuracy: 0.0650 - val_loss: 0.0010 - val_accuracy: 0.0724\n",
            "Epoch 82/100\n",
            "420/420 [==============================] - 17s 41ms/step - loss: 9.7323e-04 - accuracy: 0.0638 - val_loss: 0.0010 - val_accuracy: 0.0724\n",
            "Epoch 83/100\n",
            "420/420 [==============================] - 18s 42ms/step - loss: 9.7326e-04 - accuracy: 0.0656 - val_loss: 0.0010 - val_accuracy: 0.0724\n",
            "Epoch 84/100\n",
            "420/420 [==============================] - 17s 41ms/step - loss: 9.7323e-04 - accuracy: 0.0629 - val_loss: 0.0010 - val_accuracy: 0.0724\n",
            "Epoch 85/100\n",
            "420/420 [==============================] - 17s 41ms/step - loss: 9.7325e-04 - accuracy: 0.0632 - val_loss: 0.0010 - val_accuracy: 0.0670\n",
            "Epoch 86/100\n",
            "420/420 [==============================] - 18s 42ms/step - loss: 9.7325e-04 - accuracy: 0.0665 - val_loss: 0.0010 - val_accuracy: 0.0670\n",
            "Epoch 87/100\n",
            "420/420 [==============================] - 18s 42ms/step - loss: 9.7321e-04 - accuracy: 0.0650 - val_loss: 0.0010 - val_accuracy: 0.0617\n",
            "Epoch 88/100\n",
            "420/420 [==============================] - 17s 41ms/step - loss: 9.7325e-04 - accuracy: 0.0587 - val_loss: 0.0010 - val_accuracy: 0.0670\n",
            "Epoch 89/100\n",
            "420/420 [==============================] - 17s 41ms/step - loss: 9.7322e-04 - accuracy: 0.0641 - val_loss: 0.0010 - val_accuracy: 0.0670\n",
            "Epoch 90/100\n",
            "420/420 [==============================] - 17s 42ms/step - loss: 9.7324e-04 - accuracy: 0.0584 - val_loss: 0.0010 - val_accuracy: 0.0724\n",
            "Epoch 91/100\n",
            "420/420 [==============================] - 17s 42ms/step - loss: 9.7325e-04 - accuracy: 0.0626 - val_loss: 0.0010 - val_accuracy: 0.0724\n",
            "Epoch 92/100\n",
            "420/420 [==============================] - 17s 42ms/step - loss: 9.7324e-04 - accuracy: 0.0611 - val_loss: 0.0010 - val_accuracy: 0.0617\n",
            "Epoch 93/100\n",
            "420/420 [==============================] - 18s 42ms/step - loss: 9.7324e-04 - accuracy: 0.0629 - val_loss: 0.0010 - val_accuracy: 0.0670\n",
            "Epoch 94/100\n",
            "420/420 [==============================] - 18s 42ms/step - loss: 9.7324e-04 - accuracy: 0.0635 - val_loss: 0.0010 - val_accuracy: 0.0617\n",
            "Epoch 95/100\n",
            "420/420 [==============================] - 18s 42ms/step - loss: 9.7323e-04 - accuracy: 0.0605 - val_loss: 0.0010 - val_accuracy: 0.0670\n",
            "Epoch 96/100\n",
            "420/420 [==============================] - 18s 42ms/step - loss: 9.7324e-04 - accuracy: 0.0641 - val_loss: 0.0010 - val_accuracy: 0.0670\n",
            "Epoch 97/100\n",
            "420/420 [==============================] - 18s 42ms/step - loss: 9.7325e-04 - accuracy: 0.0590 - val_loss: 0.0010 - val_accuracy: 0.0724\n",
            "Epoch 98/100\n",
            "420/420 [==============================] - 17s 42ms/step - loss: 9.7325e-04 - accuracy: 0.0590 - val_loss: 0.0010 - val_accuracy: 0.0724\n",
            "Epoch 99/100\n",
            "420/420 [==============================] - 18s 42ms/step - loss: 9.7322e-04 - accuracy: 0.0626 - val_loss: 0.0010 - val_accuracy: 0.0724\n",
            "Epoch 100/100\n",
            "420/420 [==============================] - 18s 42ms/step - loss: 9.7324e-04 - accuracy: 0.0587 - val_loss: 0.0010 - val_accuracy: 0.0724\n"
          ]
        }
      ]
    },
    {
      "cell_type": "code",
      "source": [
        "history.history"
      ],
      "metadata": {
        "colab": {
          "base_uri": "https://localhost:8080/"
        },
        "id": "S2TH0PEAzJQt",
        "outputId": "7a6273f8-68a4-4803-f1cd-9276bf6428bf"
      },
      "execution_count": null,
      "outputs": [
        {
          "output_type": "execute_result",
          "data": {
            "text/plain": [
              "{'accuracy': [0.06020864471793175,\n",
              "  0.06438151746988297,\n",
              "  0.06259314715862274,\n",
              "  0.05305514112114906,\n",
              "  0.06259314715862274,\n",
              "  0.06348733603954315,\n",
              "  0.06527570635080338,\n",
              "  0.06348733603954315,\n",
              "  0.06199701875448227,\n",
              "  0.06915052235126495,\n",
              "  0.06557376682758331,\n",
              "  0.05842026695609093,\n",
              "  0.06348733603954315,\n",
              "  0.06020864471793175,\n",
              "  0.06110282987356186,\n",
              "  0.06259314715862274,\n",
              "  0.06169895827770233,\n",
              "  0.06378539651632309,\n",
              "  0.06527570635080338,\n",
              "  0.06169895827770233,\n",
              "  0.05782414227724075,\n",
              "  0.06348733603954315,\n",
              "  0.06527570635080338,\n",
              "  0.06646795570850372,\n",
              "  0.06408345699310303,\n",
              "  0.0646795853972435,\n",
              "  0.06378539651632309,\n",
              "  0.06020864471793175,\n",
              "  0.05931445583701134,\n",
              "  0.06587183475494385,\n",
              "  0.06378539651632309,\n",
              "  0.06110282987356186,\n",
              "  0.06497764587402344,\n",
              "  0.06408345699310303,\n",
              "  0.06348733603954315,\n",
              "  0.062295082956552505,\n",
              "  0.06378539651632309,\n",
              "  0.06497764587402344,\n",
              "  0.06020864471793175,\n",
              "  0.06438151746988297,\n",
              "  0.06169895827770233,\n",
              "  0.06080476939678192,\n",
              "  0.062295082956552505,\n",
              "  0.06915052235126495,\n",
              "  0.059612520039081573,\n",
              "  0.0679582729935646,\n",
              "  0.06110282987356186,\n",
              "  0.06378539651632309,\n",
              "  0.06289120763540268,\n",
              "  0.06408345699310303,\n",
              "  0.06408345699310303,\n",
              "  0.06527570635080338,\n",
              "  0.06259314715862274,\n",
              "  0.06825633347034454,\n",
              "  0.0590163916349411,\n",
              "  0.0646795853972435,\n",
              "  0.059612520039081573,\n",
              "  0.0590163916349411,\n",
              "  0.06318926811218262,\n",
              "  0.06378539651632309,\n",
              "  0.06497764587402344,\n",
              "  0.06885246187448502,\n",
              "  0.061400894075632095,\n",
              "  0.06587183475494385,\n",
              "  0.06438151746988297,\n",
              "  0.06616989523172379,\n",
              "  0.06855439394712448,\n",
              "  0.06676602363586426,\n",
              "  0.0703427717089653,\n",
              "  0.0646795853972435,\n",
              "  0.06199701875448227,\n",
              "  0.06527570635080338,\n",
              "  0.06318926811218262,\n",
              "  0.06378539651632309,\n",
              "  0.05931445583701134,\n",
              "  0.06885246187448502,\n",
              "  0.06438151746988297,\n",
              "  0.06348733603954315,\n",
              "  0.06378539651632309,\n",
              "  0.06259314715862274,\n",
              "  0.06497764587402344,\n",
              "  0.06378539651632309,\n",
              "  0.06557376682758331,\n",
              "  0.06289120763540268,\n",
              "  0.06318926811218262,\n",
              "  0.06646795570850372,\n",
              "  0.06497764587402344,\n",
              "  0.05871833115816116,\n",
              "  0.06408345699310303,\n",
              "  0.05842026695609093,\n",
              "  0.06259314715862274,\n",
              "  0.06110282987356186,\n",
              "  0.06289120763540268,\n",
              "  0.06348733603954315,\n",
              "  0.060506705194711685,\n",
              "  0.06408345699310303,\n",
              "  0.0590163916349411,\n",
              "  0.0590163916349411,\n",
              "  0.06259314715862274,\n",
              "  0.05871833115816116],\n",
              " 'loss': [0.0009740577661432326,\n",
              "  0.0009733069455251098,\n",
              "  0.0009732062462717295,\n",
              "  0.0009732237667776644,\n",
              "  0.00097316550090909,\n",
              "  0.0009732170146889985,\n",
              "  0.0009732040343806148,\n",
              "  0.0009732184116728604,\n",
              "  0.000973215326666832,\n",
              "  0.0009732142207212746,\n",
              "  0.0009731949539855123,\n",
              "  0.0009732220787554979,\n",
              "  0.0009732142789289355,\n",
              "  0.0009731873869895935,\n",
              "  0.0009732291800901294,\n",
              "  0.0009732031030580401,\n",
              "  0.0009732217877171934,\n",
              "  0.0009732269681990147,\n",
              "  0.0009732306352816522,\n",
              "  0.0009732278995215893,\n",
              "  0.000973211252130568,\n",
              "  0.0009732214384712279,\n",
              "  0.0009732191101647913,\n",
              "  0.0009732089238241315,\n",
              "  0.000973228074144572,\n",
              "  0.0009731968748383224,\n",
              "  0.0009731671307235956,\n",
              "  0.0009732513572089374,\n",
              "  0.0009732198086567223,\n",
              "  0.000973214628174901,\n",
              "  0.0009732227772474289,\n",
              "  0.0009732275502756238,\n",
              "  0.0009732053731568158,\n",
              "  0.0009732242324389517,\n",
              "  0.0009732258622534573,\n",
              "  0.0009732172475196421,\n",
              "  0.000973232148680836,\n",
              "  0.0009732288890518248,\n",
              "  0.0009732369799166918,\n",
              "  0.00097323686350137,\n",
              "  0.0009732203907333314,\n",
              "  0.0009732239996083081,\n",
              "  0.0009732430917210877,\n",
              "  0.0009732402977533638,\n",
              "  0.000973242858890444,\n",
              "  0.0009732311591506004,\n",
              "  0.0009732353501021862,\n",
              "  0.0009732513572089374,\n",
              "  0.0009732404141686857,\n",
              "  0.0009732394246384501,\n",
              "  0.0009732436737976968,\n",
              "  0.0009731993195600808,\n",
              "  0.0009732261532917619,\n",
              "  0.0009732228354550898,\n",
              "  0.000973258342128247,\n",
              "  0.000973221380263567,\n",
              "  0.0009732600301504135,\n",
              "  0.0009732359903864563,\n",
              "  0.0009732383769005537,\n",
              "  0.00097323814406991,\n",
              "  0.0009732347098179162,\n",
              "  0.00097323750378564,\n",
              "  0.0009732578182592988,\n",
              "  0.0009732497273944318,\n",
              "  0.0009732588659971952,\n",
              "  0.0009732424514368176,\n",
              "  0.0009732632315717638,\n",
              "  0.0009732526959851384,\n",
              "  0.0009732337784953415,\n",
              "  0.0009732377948239446,\n",
              "  0.0009732512990012765,\n",
              "  0.000973242858890444,\n",
              "  0.0009732427424751222,\n",
              "  0.0009732512407936156,\n",
              "  0.0009732476901262999,\n",
              "  0.0009732327307574451,\n",
              "  0.0009732604376040399,\n",
              "  0.0009732311591506004,\n",
              "  0.0009732343023642898,\n",
              "  0.000973235466517508,\n",
              "  0.0009732207399792969,\n",
              "  0.0009732316248118877,\n",
              "  0.000973261019680649,\n",
              "  0.0009732301696203649,\n",
              "  0.0009732455364428461,\n",
              "  0.0009732498438097537,\n",
              "  0.0009732060716487467,\n",
              "  0.0009732520557008684,\n",
              "  0.0009732172475196421,\n",
              "  0.0009732386679388583,\n",
              "  0.00097324961097911,\n",
              "  0.0009732444887049496,\n",
              "  0.0009732392500154674,\n",
              "  0.0009732438484206796,\n",
              "  0.0009732306352816522,\n",
              "  0.0009732400649227202,\n",
              "  0.0009732451289892197,\n",
              "  0.0009732465259730816,\n",
              "  0.0009732172475196421,\n",
              "  0.0009732380276545882],\n",
              " 'val_accuracy': [0.07238605618476868,\n",
              "  0.06166219711303711,\n",
              "  0.0670241266489029,\n",
              "  0.0670241266489029,\n",
              "  0.07238605618476868,\n",
              "  0.07238605618476868,\n",
              "  0.0670241266489029,\n",
              "  0.06166219711303711,\n",
              "  0.0670241266489029,\n",
              "  0.0670241266489029,\n",
              "  0.06166219711303711,\n",
              "  0.0670241266489029,\n",
              "  0.06166219711303711,\n",
              "  0.07238605618476868,\n",
              "  0.0670241266489029,\n",
              "  0.0670241266489029,\n",
              "  0.07238605618476868,\n",
              "  0.06166219711303711,\n",
              "  0.06166219711303711,\n",
              "  0.0670241266489029,\n",
              "  0.0670241266489029,\n",
              "  0.07238605618476868,\n",
              "  0.06166219711303711,\n",
              "  0.0670241266489029,\n",
              "  0.06166219711303711,\n",
              "  0.07238605618476868,\n",
              "  0.0670241266489029,\n",
              "  0.07238605618476868,\n",
              "  0.07238605618476868,\n",
              "  0.0670241266489029,\n",
              "  0.07238605618476868,\n",
              "  0.07238605618476868,\n",
              "  0.07238605618476868,\n",
              "  0.07238605618476868,\n",
              "  0.0670241266489029,\n",
              "  0.07238605618476868,\n",
              "  0.07238605618476868,\n",
              "  0.07238605618476868,\n",
              "  0.07238605618476868,\n",
              "  0.07238605618476868,\n",
              "  0.07238605618476868,\n",
              "  0.0670241266489029,\n",
              "  0.06166219711303711,\n",
              "  0.0670241266489029,\n",
              "  0.06166219711303711,\n",
              "  0.06166219711303711,\n",
              "  0.06166219711303711,\n",
              "  0.07238605618476868,\n",
              "  0.07238605618476868,\n",
              "  0.0670241266489029,\n",
              "  0.07238605618476868,\n",
              "  0.0670241266489029,\n",
              "  0.06166219711303711,\n",
              "  0.06166219711303711,\n",
              "  0.07238605618476868,\n",
              "  0.06166219711303711,\n",
              "  0.06166219711303711,\n",
              "  0.07238605618476868,\n",
              "  0.06166219711303711,\n",
              "  0.07238605618476868,\n",
              "  0.07238605618476868,\n",
              "  0.07238605618476868,\n",
              "  0.06166219711303711,\n",
              "  0.0670241266489029,\n",
              "  0.0670241266489029,\n",
              "  0.0670241266489029,\n",
              "  0.0670241266489029,\n",
              "  0.07238605618476868,\n",
              "  0.07238605618476868,\n",
              "  0.0670241266489029,\n",
              "  0.07238605618476868,\n",
              "  0.06166219711303711,\n",
              "  0.07238605618476868,\n",
              "  0.0670241266489029,\n",
              "  0.06166219711303711,\n",
              "  0.07238605618476868,\n",
              "  0.0670241266489029,\n",
              "  0.0670241266489029,\n",
              "  0.07238605618476868,\n",
              "  0.07238605618476868,\n",
              "  0.07238605618476868,\n",
              "  0.07238605618476868,\n",
              "  0.07238605618476868,\n",
              "  0.07238605618476868,\n",
              "  0.0670241266489029,\n",
              "  0.0670241266489029,\n",
              "  0.06166219711303711,\n",
              "  0.0670241266489029,\n",
              "  0.0670241266489029,\n",
              "  0.07238605618476868,\n",
              "  0.07238605618476868,\n",
              "  0.06166219711303711,\n",
              "  0.0670241266489029,\n",
              "  0.06166219711303711,\n",
              "  0.0670241266489029,\n",
              "  0.0670241266489029,\n",
              "  0.07238605618476868,\n",
              "  0.07238605618476868,\n",
              "  0.07238605618476868,\n",
              "  0.07238605618476868],\n",
              " 'val_loss': [0.0010090016294270754,\n",
              "  0.0010087264236062765,\n",
              "  0.001008664141409099,\n",
              "  0.0010087854461744428,\n",
              "  0.0010087975533679128,\n",
              "  0.0010085934773087502,\n",
              "  0.0010086874244734645,\n",
              "  0.001008724677376449,\n",
              "  0.0010086748516187072,\n",
              "  0.0010087927803397179,\n",
              "  0.0010087679838761687,\n",
              "  0.0010086640249937773,\n",
              "  0.0010088076815009117,\n",
              "  0.0010086456313729286,\n",
              "  0.001008814899250865,\n",
              "  0.0010087417904287577,\n",
              "  0.0010088048875331879,\n",
              "  0.0010087286354973912,\n",
              "  0.0010087406262755394,\n",
              "  0.0010087912669405341,\n",
              "  0.001008718623779714,\n",
              "  0.0010088239796459675,\n",
              "  0.001008758321404457,\n",
              "  0.0010087827686220407,\n",
              "  0.0010085913818329573,\n",
              "  0.001008782535791397,\n",
              "  0.0010089150164276361,\n",
              "  0.0010087393457069993,\n",
              "  0.0010086719412356615,\n",
              "  0.0010086441179737449,\n",
              "  0.0010087689151987433,\n",
              "  0.0010086579713970423,\n",
              "  0.0010086961556226015,\n",
              "  0.001008631195873022,\n",
              "  0.0010086793918162584,\n",
              "  0.0010086942929774523,\n",
              "  0.0010088043054565787,\n",
              "  0.0010087554110214114,\n",
              "  0.0010087870759889483,\n",
              "  0.0010087327100336552,\n",
              "  0.0010087894042953849,\n",
              "  0.0010086910333484411,\n",
              "  0.001008759019896388,\n",
              "  0.0010086585534736514,\n",
              "  0.001008704537525773,\n",
              "  0.001008679624646902,\n",
              "  0.001008734805509448,\n",
              "  0.0010085874237120152,\n",
              "  0.0010087058180943131,\n",
              "  0.0010087302653118968,\n",
              "  0.001008668914437294,\n",
              "  0.0010087762493640184,\n",
              "  0.0010087601840496063,\n",
              "  0.001008621184155345,\n",
              "  0.0010087665868923068,\n",
              "  0.00100881012622267,\n",
              "  0.0010086535476148129,\n",
              "  0.0010086607653647661,\n",
              "  0.0010086533147841692,\n",
              "  0.001008770545013249,\n",
              "  0.0010087992995977402,\n",
              "  0.0010086933616548777,\n",
              "  0.0010087111731991172,\n",
              "  0.001008724677376449,\n",
              "  0.0010087400441989303,\n",
              "  0.0010086518013849854,\n",
              "  0.0010087706614285707,\n",
              "  0.0010087058180943131,\n",
              "  0.0010087598348036408,\n",
              "  0.0010087010450661182,\n",
              "  0.001008689752779901,\n",
              "  0.0010086841648444533,\n",
              "  0.0010087712435051799,\n",
              "  0.0010087277041748166,\n",
              "  0.001008734107017517,\n",
              "  0.0010086862603202462,\n",
              "  0.00100866483990103,\n",
              "  0.0010086200200021267,\n",
              "  0.0010085703106597066,\n",
              "  0.0010087204864248633,\n",
              "  0.001008759718388319,\n",
              "  0.0010087070986628532,\n",
              "  0.001008750288747251,\n",
              "  0.001008788589388132,\n",
              "  0.0010086542461067438,\n",
              "  0.0010086464462801814,\n",
              "  0.001008676365017891,\n",
              "  0.001008746912702918,\n",
              "  0.0010087935952469707,\n",
              "  0.001008697785437107,\n",
              "  0.0010087387636303902,\n",
              "  0.0010086448164656758,\n",
              "  0.0010086637921631336,\n",
              "  0.0010086914990097284,\n",
              "  0.0010086590191349387,\n",
              "  0.0010087433038279414,\n",
              "  0.0010086828842759132,\n",
              "  0.0010087667033076286,\n",
              "  0.0010086370166391134,\n",
              "  0.001008818857371807]}"
            ]
          },
          "metadata": {},
          "execution_count": 19
        }
      ]
    },
    {
      "cell_type": "code",
      "source": [
        "import matplotlib.pyplot as plt\n",
        "\n",
        "plt.plot(np.arange(0, 100, 1), history.history['loss'])\n",
        "plt.plot(np.arange(0, 100, 1), history.history['val_loss'])"
      ],
      "metadata": {
        "colab": {
          "base_uri": "https://localhost:8080/",
          "height": 282
        },
        "id": "hn8TIdK4zBki",
        "outputId": "c8593499-dc2e-4419-f148-0d79fa85a5e1"
      },
      "execution_count": null,
      "outputs": [
        {
          "output_type": "execute_result",
          "data": {
            "text/plain": [
              "[<matplotlib.lines.Line2D at 0x7f012eeb0810>]"
            ]
          },
          "metadata": {},
          "execution_count": 22
        },
        {
          "output_type": "display_data",
          "data": {
            "text/plain": [
              "<Figure size 432x288 with 1 Axes>"
            ],
            "image/png": "[encoded data removed]"
          },
          "metadata": {
            "needs_background": "light"
          }
        }
      ]
    }
  ]
}