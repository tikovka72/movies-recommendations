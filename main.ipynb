{
 "cells": [
  {
   "cell_type": "code",
   "execution_count": 35,
   "metadata": {
    "collapsed": true
   },
   "outputs": [],
   "source": [
    "import pandas as pd\n",
    "import numpy as np\n",
    "from tensorflow.keras.preprocessing.text import Tokenizer"
   ]
  },
  {
   "cell_type": "code",
   "execution_count": 15,
   "outputs": [],
   "source": [
    "df = pd.read_csv('csv/movies.csv')"
   ],
   "metadata": {
    "collapsed": false,
    "pycharm": {
     "name": "#%%\n"
    }
   }
  },
  {
   "cell_type": "code",
   "execution_count": 36,
   "outputs": [],
   "source": [
    "keywords = df['keywords'].dropna()"
   ],
   "metadata": {
    "collapsed": false,
    "pycharm": {
     "name": "#%%\n"
    }
   }
  },
  {
   "cell_type": "code",
   "execution_count": 30,
   "outputs": [],
   "source": [
    "# Для размышлений\n",
    "from difflib import SequenceMatcher\n",
    "\n",
    "space = tuple(filter(lambda x: x.lower().startswith('space'), keywords))"
   ],
   "metadata": {
    "collapsed": false,
    "pycharm": {
     "name": "#%%\n"
    }
   }
  },
  {
   "cell_type": "code",
   "execution_count": 33,
   "outputs": [
    {
     "data": {
      "text/plain": "[(1.0, 'space marine'),\n (0.5833333333333334, 'space colony'),\n (0.6086956521739131, 'space opera'),\n (0.5882352941176471, 'space'),\n (0.5714285714285714, 'spaceship'),\n (0.5714285714285714, 'spaceport'),\n (0.7272727272727273, 'space race'),\n (0.72, 'space mission'),\n (0.6666666666666666, 'space pirate'),\n (0.8, 'space carrier'),\n (0.5333333333333333, 'space based weapon'),\n (0.72, 'space station'),\n (0.8, 'spaceman'),\n (0.6153846153846154, 'space invasion'),\n (0.5454545454545454, 'spacecraft'),\n (0.7619047619047619, 'space war'),\n (0.6363636363636364, 'space suit'),\n (0.6666666666666666, 'space travel'),\n (0.6666666666666666, 'space battle'),\n (0.5806451612903226, 'spacecraft accident'),\n (0.6666666666666666, 'space centre'),\n (0.4666666666666667, 'spacecraft officer')]"
     },
     "execution_count": 33,
     "metadata": {},
     "output_type": "execute_result"
    }
   ],
   "source": [
    "[(SequenceMatcher(None, space[0], i).ratio(), i) for i in space]"
   ],
   "metadata": {
    "collapsed": false,
    "pycharm": {
     "name": "#%%\n"
    }
   }
  },
  {
   "cell_type": "code",
   "execution_count": 37,
   "outputs": [],
   "source": [
    "tokenizer = Tokenizer(num_words=8000,\n",
    "                      lower=True,\n",
    "                      split=';')"
   ],
   "metadata": {
    "collapsed": false,
    "pycharm": {
     "name": "#%%\n"
    }
   }
  },
  {
   "cell_type": "code",
   "execution_count": 39,
   "outputs": [],
   "source": [
    "tokenizer.fit_on_texts(keywords)"
   ],
   "metadata": {
    "collapsed": false,
    "pycharm": {
     "name": "#%%\n"
    }
   }
  },
  {
   "cell_type": "code",
   "execution_count": 65,
   "outputs": [
    {
     "data": {
      "text/plain": "21"
     },
     "execution_count": 65,
     "metadata": {},
     "output_type": "execute_result"
    }
   ],
   "source": [
    "len(keywords[0].split(';'))"
   ],
   "metadata": {
    "collapsed": false,
    "pycharm": {
     "name": "#%%\n"
    }
   }
  },
  {
   "cell_type": "code",
   "execution_count": null,
   "outputs": [],
   "source": [
    "def to_binary(words_indexes, num_words=8000):\n",
    "     binary_words = np.zeros(num_words)\n",
    "     binary_words[words_indexes] = 1\n",
    "     return binary_words"
   ],
   "metadata": {
    "collapsed": false,
    "pycharm": {
     "name": "#%%\n"
    }
   }
  },
  {
   "cell_type": "code",
   "execution_count": 64,
   "outputs": [
    {
     "name": "stdout",
     "output_type": "stream",
     "text": [
      "21\n"
     ]
    },
    {
     "data": {
      "text/plain": "array([0., 0., 0., ..., 0., 0., 0.])"
     },
     "execution_count": 64,
     "metadata": {},
     "output_type": "execute_result"
    }
   ],
   "source": [
    "words = list(filter(bool, [x[0] if x else 0 for x in tokenizer.texts_to_sequences(keywords[0].split(';'))]))\n",
    "print(len(words))\n",
    "binary_words = to_binary(words)\n",
    "binary_words"
   ],
   "metadata": {
    "collapsed": false,
    "pycharm": {
     "name": "#%%\n"
    }
   }
  },
  {
   "cell_type": "code",
   "execution_count": 66,
   "outputs": [
    {
     "data": {
      "text/plain": "(21, 7979)"
     },
     "execution_count": 66,
     "metadata": {},
     "output_type": "execute_result"
    }
   ],
   "source": [
    "(binary_words == 1).sum(), (binary_words == 0).sum()"
   ],
   "metadata": {
    "collapsed": false,
    "pycharm": {
     "name": "#%%\n"
    }
   }
  }
 ],
 "metadata": {
  "kernelspec": {
   "display_name": "Python 3",
   "language": "python",
   "name": "python3"
  },
  "language_info": {
   "codemirror_mode": {
    "name": "ipython",
    "version": 2
   },
   "file_extension": ".py",
   "mimetype": "text/x-python",
   "name": "python",
   "nbconvert_exporter": "python",
   "pygments_lexer": "ipython2",
   "version": "2.7.6"
  }
 },
 "nbformat": 4,
 "nbformat_minor": 0
}