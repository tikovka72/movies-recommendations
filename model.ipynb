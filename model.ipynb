{
  "nbformat": 4,
  "nbformat_minor": 0,
  "metadata": {
    "colab": {
      "name": "nastya.ipynb",
      "provenance": [],
      "collapsed_sections": [],
      "authorship_tag": "ABX9TyOMTfGJPX1zCDjpdzE4499o"
    },
    "kernelspec": {
      "name": "python3",
      "display_name": "Python 3"
    },
    "language_info": {
      "name": "python"
    }
  },
  "cells": [
    {
      "cell_type": "code",
      "execution_count": 5,
      "metadata": {
        "id": "kZPv5mSBZjPD"
      },
      "outputs": [],
      "source": [
        "from tensorflow.keras.models import Model\n",
        "from tensorflow.keras.layers import Dense, Input\n",
        "from tensorflow.keras.activations import relu"
      ]
    },
    {
      "cell_type": "code",
      "source": [
        "INPUT_SHAPE = 8000\n",
        "HIDDEN_LAYER_SHAPE = 256"
      ],
      "metadata": {
        "id": "obmLPQBNEFMU"
      },
      "execution_count": 6,
      "outputs": []
    },
    {
      "cell_type": "code",
      "source": [
        "def create_generator(): \n",
        "    input_layer = Input(INPUT_SHAPE)\n",
        "    layer = Dense(4096, activation=relu)(input_layer)\n",
        "    for units_count in [2048, 2048, 1024, 512, 512, HIDDEN_LAYER_SHAPE]: \n",
        "        layer = Dense(units_count, activation=relu)(layer)\n",
        "    return Model(input_layer, layer)"
      ],
      "metadata": {
        "id": "T9sk-DJL8may"
      },
      "execution_count": 7,
      "outputs": []
    },
    {
      "cell_type": "code",
      "source": [
        "def create_decoder(): \n",
        "    input_layer = Input(HIDDEN_LAYER_SHAPE)\n",
        "    layer = Dense(512, activation=relu)(input_layer)\n",
        "    for units_count in [512, 512, 1024, 2048, 2048, 4096, INPUT_SHAPE]:\n",
        "        layer = Dense(units_count, activation=relu)(layer)\n",
        "    return Model(input_layer, layer)"
      ],
      "metadata": {
        "id": "ZUh-6hsTC0mV"
      },
      "execution_count": 8,
      "outputs": []
    },
    {
      "cell_type": "code",
      "source": [
        "main_input = Input(INPUT_SHAPE)\n",
        "generator, decoder = create_generator(), create_decoder()\n",
        "model = Model(main_input, decoder(generator(main_input)))"
      ],
      "metadata": {
        "id": "Shn-5nJSDTB6"
      },
      "execution_count": 9,
      "outputs": []
    }
  ]
}